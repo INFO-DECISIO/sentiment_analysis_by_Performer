{
 "cells": [
  {
   "cell_type": "markdown",
   "id": "2c9acb6c",
   "metadata": {},
   "source": [
    "# Analyse Exploratoire des Données (EDA) pour la Prédiction de Sentiment\n",
    "\n",
    "## Contexte du Projet\n",
    "\n",
    "Ce notebook fait partie d'un projet visant à construire un modèle de prédiction de sentiment sur des commentaires textuels. L'objectif est d'analyser un dataset public de commentaires pour comprendre la nature des données, identifier les tendances liées au sentiment, et préparer les données pour l'entraînement d'un modèle de machine learning qui pourra être intégré dans une application web.\n",
    "\n",
    "Ce projet est développé au sein de l'organisation GitHub INFO-DECISIO dans le cadre du cours Informatique décisionnel.\n",
    "\n",
    "## Source du Dataset\n",
    "\n",
    "Le dataset utilisé pour cette analyse provient de Kaggle et contient des commentaires associés à un sentiment. Il est disponible ici :\n",
    "[Lien vers le dataset Kaggle](`https://www.kaggle.com/code/alokkumar2507/sentiment-analysis-eda-and-prediction/input`)\n",
    "\n",
    "*(Note : Le fichier du dataset doit être téléchargé depuis Kaggle et placé dans le dossier `data/` du projet.)*\n",
    "\n",
    "## Objectifs de l'EDA\n",
    "\n",
    "L'objectif de cette phase d'exploration est de :\n",
    "1. Comprendre la structure et le contenu du dataset.\n",
    "2. Analyser la distribution des sentiments.\n",
    "3. Explorer les caractéristiques du texte des commentaires (longueur, mots fréquents).\n",
    "4. Identifier les problèmes potentiels dans les données (valeurs manquantes, texte \"bruité\").\n",
    "5. Obtenir des insights qui guideront les étapes de prétraitement et de modélisation."
   ]
  },
  {
   "cell_type": "markdown",
   "id": "c88dd753",
   "metadata": {},
   "source": [
    "## 1. Importation des Bibliothèques et Chargement des Données\n",
    "\n",
    "Dans cette section, nous importons les bibliothèques Python nécessaires pour l'analyse des données et le chargement du dataset."
   ]
  },
  {
   "cell_type": "code",
   "execution_count": 1,
   "id": "5b8b84c2",
   "metadata": {},
   "outputs": [],
   "source": [
    "# Importation des bibliothèques nécessaires\n",
    "import pandas as pd\n",
    "import numpy as np\n",
    "import matplotlib.pyplot as plt\n",
    "import seaborn as sns\n",
    "\n",
    "# Configure les options d'affichage pour les DataFrames pandas\n",
    "pd.set_option('display.max_columns', None) # Affiche toutes les colonnes\n",
    "pd.set_option('display.max_rows', None)    # Affiche toutes les lignes (prudence avec les gros datasets)\n",
    "pd.set_option('display.max_colwidth', None) # Affiche le contenu complet des cellules\n",
    "\n",
    "sns.set_style(\"whitegrid\") # Définit le style des graphiques seaborn"
   ]
  },
  {
   "cell_type": "markdown",
   "id": "f7706b08",
   "metadata": {},
   "source": [
    "### Chargement du Dataset\n",
    "Nous chargeons le fichier CSV du dataset depuis le dossier `data/`."
   ]
  },
  {
   "cell_type": "code",
   "execution_count": 2,
   "id": "e4e4710f",
   "metadata": {},
   "outputs": [
    {
     "name": "stdout",
     "output_type": "stream",
     "text": [
      "Dataset chargé avec succès.\n",
      "Nombre de lignes : 499\n",
      "Nombre de colonnes : 7\n"
     ]
    }
   ],
   "source": [
    "# Chargement du dataset\n",
    "# Assurez-vous que le fichier CSV est dans le dossier 'data/' et remplacez 'votre_fichier_dataset.csv' par le nom réel.\n",
    "file_path = '../data/sentiment_analysis.csv' # <-- REMPLACER PAR LE NOM DE VOTRE FICHIER\n",
    "\n",
    "try:\n",
    "    df = pd.read_csv(file_path)\n",
    "    print(\"Dataset chargé avec succès.\")\n",
    "    print(f\"Nombre de lignes : {df.shape[0]}\")\n",
    "    print(f\"Nombre de colonnes : {df.shape[1]}\")\n",
    "except FileNotFoundError:\n",
    "    print(f\"Erreur : Le fichier {file_path} n'a pas été trouvé.\")\n",
    "    print(\"Veuillez télécharger le dataset depuis Kaggle et le placer dans le dossier 'data/'.\")\n",
    "    df = None # Assure que df est None en cas d'erreur"
   ]
  },
  {
   "cell_type": "markdown",
   "id": "95ec49ba",
   "metadata": {},
   "source": [
    "*Commentaire :* Cette section charge les données. La gestion d'erreur permet de vérifier si le fichier est bien là. Les premières informations (nombre de lignes/colonnes) donnent un premier aperçu de la taille du dataset."
   ]
  },
  {
   "cell_type": "markdown",
   "id": "41d38beb",
   "metadata": {},
   "source": [
    "## 2. Inspection Initiale des Données\n",
    "\n",
    "Nous allons maintenant inspecter les premières lignes du dataset, vérifier les types de données, les valeurs manquantes et obtenir un résumé statistique."
   ]
  },
  {
   "cell_type": "markdown",
   "id": "85aa84e0",
   "metadata": {},
   "source": [
    "### Aperçu des Données\n",
    "Affichons les premières lignes pour comprendre la structure des colonnes et le format des données."
   ]
  },
  {
   "cell_type": "code",
   "execution_count": 3,
   "id": "097a0612",
   "metadata": {},
   "outputs": [
    {
     "name": "stdout",
     "output_type": "stream",
     "text": [
      "\n",
      "Premières 5 lignes du dataset :\n"
     ]
    },
    {
     "data": {
      "text/html": [
       "<div>\n",
       "<style scoped>\n",
       "    .dataframe tbody tr th:only-of-type {\n",
       "        vertical-align: middle;\n",
       "    }\n",
       "\n",
       "    .dataframe tbody tr th {\n",
       "        vertical-align: top;\n",
       "    }\n",
       "\n",
       "    .dataframe thead th {\n",
       "        text-align: right;\n",
       "    }\n",
       "</style>\n",
       "<table border=\"1\" class=\"dataframe\">\n",
       "  <thead>\n",
       "    <tr style=\"text-align: right;\">\n",
       "      <th></th>\n",
       "      <th>Year</th>\n",
       "      <th>Month</th>\n",
       "      <th>Day</th>\n",
       "      <th>Time of Tweet</th>\n",
       "      <th>text</th>\n",
       "      <th>sentiment</th>\n",
       "      <th>Platform</th>\n",
       "    </tr>\n",
       "  </thead>\n",
       "  <tbody>\n",
       "    <tr>\n",
       "      <th>0</th>\n",
       "      <td>2018</td>\n",
       "      <td>8</td>\n",
       "      <td>18</td>\n",
       "      <td>morning</td>\n",
       "      <td>What a great day!!! Looks like dream.</td>\n",
       "      <td>positive</td>\n",
       "      <td>Twitter</td>\n",
       "    </tr>\n",
       "    <tr>\n",
       "      <th>1</th>\n",
       "      <td>2018</td>\n",
       "      <td>8</td>\n",
       "      <td>18</td>\n",
       "      <td>noon</td>\n",
       "      <td>I feel sorry, I miss you here in the sea beach</td>\n",
       "      <td>positive</td>\n",
       "      <td>Facebook</td>\n",
       "    </tr>\n",
       "    <tr>\n",
       "      <th>2</th>\n",
       "      <td>2017</td>\n",
       "      <td>8</td>\n",
       "      <td>18</td>\n",
       "      <td>night</td>\n",
       "      <td>Don't angry me</td>\n",
       "      <td>negative</td>\n",
       "      <td>Facebook</td>\n",
       "    </tr>\n",
       "    <tr>\n",
       "      <th>3</th>\n",
       "      <td>2022</td>\n",
       "      <td>6</td>\n",
       "      <td>8</td>\n",
       "      <td>morning</td>\n",
       "      <td>We attend in the class just for listening teachers reading on slide. Just Nonsence</td>\n",
       "      <td>negative</td>\n",
       "      <td>Facebook</td>\n",
       "    </tr>\n",
       "    <tr>\n",
       "      <th>4</th>\n",
       "      <td>2022</td>\n",
       "      <td>6</td>\n",
       "      <td>8</td>\n",
       "      <td>noon</td>\n",
       "      <td>Those who want to go, let them go</td>\n",
       "      <td>negative</td>\n",
       "      <td>Instagram</td>\n",
       "    </tr>\n",
       "  </tbody>\n",
       "</table>\n",
       "</div>"
      ],
      "text/plain": [
       "   Year  Month  Day Time of Tweet   \n",
       "0  2018      8   18       morning  \\\n",
       "1  2018      8   18          noon   \n",
       "2  2017      8   18         night   \n",
       "3  2022      6    8       morning   \n",
       "4  2022      6    8          noon   \n",
       "\n",
       "                                                                                   text   \n",
       "0                                                 What a great day!!! Looks like dream.  \\\n",
       "1                                        I feel sorry, I miss you here in the sea beach   \n",
       "2                                                                        Don't angry me   \n",
       "3  We attend in the class just for listening teachers reading on slide. Just Nonsence     \n",
       "4                                                     Those who want to go, let them go   \n",
       "\n",
       "  sentiment     Platform  \n",
       "0  positive    Twitter    \n",
       "1  positive    Facebook   \n",
       "2  negative     Facebook  \n",
       "3  negative    Facebook   \n",
       "4  negative   Instagram   "
      ]
     },
     "metadata": {},
     "output_type": "display_data"
    }
   ],
   "source": [
    "if df is not None:\n",
    "    print(\"\\nPremières 5 lignes du dataset :\")\n",
    "    display(df.head())"
   ]
  },
  {
   "cell_type": "code",
   "execution_count": 4,
   "id": "b3aed243",
   "metadata": {},
   "outputs": [
    {
     "name": "stdout",
     "output_type": "stream",
     "text": [
      "\n",
      "Informations sur le dataset :\n",
      "<class 'pandas.core.frame.DataFrame'>\n",
      "RangeIndex: 499 entries, 0 to 498\n",
      "Data columns (total 7 columns):\n",
      " #   Column         Non-Null Count  Dtype \n",
      "---  ------         --------------  ----- \n",
      " 0   Year           499 non-null    int64 \n",
      " 1   Month          499 non-null    int64 \n",
      " 2   Day            499 non-null    int64 \n",
      " 3   Time of Tweet  499 non-null    object\n",
      " 4   text           499 non-null    object\n",
      " 5   sentiment      499 non-null    object\n",
      " 6   Platform       499 non-null    object\n",
      "dtypes: int64(3), object(4)\n",
      "memory usage: 27.4+ KB\n"
     ]
    }
   ],
   "source": [
    "if df is not None:\n",
    "    print(\"\\nInformations sur le dataset :\")\n",
    "    df.info()"
   ]
  },
  {
   "cell_type": "markdown",
   "id": "4f791f2b",
   "metadata": {},
   "source": [
    "### Statistiques Descriptives\n",
    "Un résumé statistique pour les colonnes numériques, si elles existent."
   ]
  },
  {
   "cell_type": "code",
   "execution_count": 5,
   "id": "93be2a67",
   "metadata": {},
   "outputs": [
    {
     "name": "stdout",
     "output_type": "stream",
     "text": [
      "\n",
      "Statistiques descriptives :\n"
     ]
    },
    {
     "data": {
      "text/html": [
       "<div>\n",
       "<style scoped>\n",
       "    .dataframe tbody tr th:only-of-type {\n",
       "        vertical-align: middle;\n",
       "    }\n",
       "\n",
       "    .dataframe tbody tr th {\n",
       "        vertical-align: top;\n",
       "    }\n",
       "\n",
       "    .dataframe thead th {\n",
       "        text-align: right;\n",
       "    }\n",
       "</style>\n",
       "<table border=\"1\" class=\"dataframe\">\n",
       "  <thead>\n",
       "    <tr style=\"text-align: right;\">\n",
       "      <th></th>\n",
       "      <th>Year</th>\n",
       "      <th>Month</th>\n",
       "      <th>Day</th>\n",
       "    </tr>\n",
       "  </thead>\n",
       "  <tbody>\n",
       "    <tr>\n",
       "      <th>count</th>\n",
       "      <td>499.000000</td>\n",
       "      <td>499.000000</td>\n",
       "      <td>499.000000</td>\n",
       "    </tr>\n",
       "    <tr>\n",
       "      <th>mean</th>\n",
       "      <td>2020.394790</td>\n",
       "      <td>6.084168</td>\n",
       "      <td>15.693387</td>\n",
       "    </tr>\n",
       "    <tr>\n",
       "      <th>std</th>\n",
       "      <td>2.830991</td>\n",
       "      <td>3.652711</td>\n",
       "      <td>8.804673</td>\n",
       "    </tr>\n",
       "    <tr>\n",
       "      <th>min</th>\n",
       "      <td>2010.000000</td>\n",
       "      <td>1.000000</td>\n",
       "      <td>1.000000</td>\n",
       "    </tr>\n",
       "    <tr>\n",
       "      <th>25%</th>\n",
       "      <td>2019.000000</td>\n",
       "      <td>2.000000</td>\n",
       "      <td>8.000000</td>\n",
       "    </tr>\n",
       "    <tr>\n",
       "      <th>50%</th>\n",
       "      <td>2021.000000</td>\n",
       "      <td>6.000000</td>\n",
       "      <td>15.000000</td>\n",
       "    </tr>\n",
       "    <tr>\n",
       "      <th>75%</th>\n",
       "      <td>2023.000000</td>\n",
       "      <td>9.000000</td>\n",
       "      <td>22.000000</td>\n",
       "    </tr>\n",
       "    <tr>\n",
       "      <th>max</th>\n",
       "      <td>2023.000000</td>\n",
       "      <td>12.000000</td>\n",
       "      <td>31.000000</td>\n",
       "    </tr>\n",
       "  </tbody>\n",
       "</table>\n",
       "</div>"
      ],
      "text/plain": [
       "              Year       Month         Day\n",
       "count   499.000000  499.000000  499.000000\n",
       "mean   2020.394790    6.084168   15.693387\n",
       "std       2.830991    3.652711    8.804673\n",
       "min    2010.000000    1.000000    1.000000\n",
       "25%    2019.000000    2.000000    8.000000\n",
       "50%    2021.000000    6.000000   15.000000\n",
       "75%    2023.000000    9.000000   22.000000\n",
       "max    2023.000000   12.000000   31.000000"
      ]
     },
     "metadata": {},
     "output_type": "display_data"
    }
   ],
   "source": [
    "if df is not None:\n",
    "    print(\"\\nStatistiques descriptives :\")\n",
    "    display(df.describe())"
   ]
  },
  {
   "cell_type": "markdown",
   "id": "9a8681a1",
   "metadata": {},
   "source": [
    "## 3. Analyse de la Variable Cible (Sentiment)\n",
    "\n",
    "Nous allons maintenant explorer la distribution des différentes catégories de sentiment dans le dataset."
   ]
  },
  {
   "cell_type": "markdown",
   "id": "9c9f4f91",
   "metadata": {},
   "source": [
    "### Distribution des Sentiments\n",
    "Comptons et visualisons le nombre d'occurrences pour chaque catégorie de sentiment."
   ]
  },
  {
   "cell_type": "code",
   "execution_count": 6,
   "id": "10732e74",
   "metadata": {},
   "outputs": [
    {
     "name": "stdout",
     "output_type": "stream",
     "text": [
      "\n",
      "Distribution des sentiments dans la colonne 'sentiment' :\n",
      "sentiment\n",
      "neutral     199\n",
      "positive    166\n",
      "negative    134\n",
      "Name: count, dtype: int64\n"
     ]
    },
    {
     "data": {
      "image/png": "[encoded data removed]",
      "text/plain": [
       "<Figure size 800x600 with 1 Axes>"
      ]
     },
     "metadata": {},
     "output_type": "display_data"
    }
   ],
   "source": [
    "sentiment_column = 'sentiment'\n",
    "\n",
    "if df is not None and sentiment_column in df.columns:\n",
    "    print(f\"\\nDistribution des sentiments dans la colonne '{sentiment_column}' :\")\n",
    "    sentiment_counts = df[sentiment_column].value_counts()\n",
    "    print(sentiment_counts)\n",
    "\n",
    "    # Visualisation de la distribution des sentiments\n",
    "    plt.figure(figsize=(8, 6))\n",
    "    sns.countplot(data=df, x=sentiment_column, order=sentiment_counts.index, palette='viridis')\n",
    "    plt.title('Distribution des Catégories de Sentiment')\n",
    "    plt.xlabel('Sentiment')\n",
    "    plt.ylabel('Nombre de Commentaires')\n",
    "    plt.xticks(rotation=0) # Adaptez si les noms de sentiment sont longs\n",
    "    plt.show()\n",
    "\n",
    "elif df is not None:\n",
    "    print(f\"Erreur : La colonne de sentiment '{sentiment_column}' n'a pas été trouvée dans le dataset.\")\n",
    "    print(\"Veuillez vérifier le nom de la colonne.\")"
   ]
  },
  {
   "cell_type": "markdown",
   "id": "f716fbb8",
   "metadata": {},
   "source": [
    "*Commentaire :* Ce graphique montre la répartition des classes de sentiment. S'il y a une différence significative dans le nombre d'échantillons par classe, le dataset est déséquilibré. Cela aura des implications pour le choix du modèle et des métriques d'évaluation, ainsi que potentiellement pour les techniques de prétraitement (gestion du déséquilibre)."
   ]
  },
  {
   "cell_type": "markdown",
   "id": "d1d54750",
   "metadata": {},
   "source": [
    "## 4. Analyse des Caractéristiques du Texte\n",
    "\n",
    "Explorons maintenant le contenu textuel des commentaires eux-mêmes. La longueur des commentaires et la fréquence des mots peuvent fournir des insights."
   ]
  },
  {
   "cell_type": "markdown",
   "id": "fd0fdd0c",
   "metadata": {},
   "source": [
    "### Longueur des Commentaires\n",
    "Analysons la distribution de la longueur des commentaires."
   ]
  },
  {
   "cell_type": "code",
   "execution_count": 7,
   "id": "621fad41",
   "metadata": {},
   "outputs": [
    {
     "name": "stdout",
     "output_type": "stream",
     "text": [
      "\n",
      "Statistiques sur la longueur des commentaires :\n",
      "count    499.000000\n",
      "mean      59.833667\n",
      "std       35.116822\n",
      "min        4.000000\n",
      "25%       32.000000\n",
      "50%       52.000000\n",
      "75%       83.000000\n",
      "max      138.000000\n",
      "Name: text_length, dtype: float64\n"
     ]
    },
    {
     "data": {
      "image/png": "[encoded data removed]",
      "text/plain": [
       "<Figure size 1000x600 with 1 Axes>"
      ]
     },
     "metadata": {},
     "output_type": "display_data"
    }
   ],
   "source": [
    "text_column = 'text'\n",
    "\n",
    "if df is not None and text_column in df.columns:\n",
    "    df['text_length'] = df[text_column].astype(str).apply(len) # Calculer la longueur du texte\n",
    "\n",
    "    print(\"\\nStatistiques sur la longueur des commentaires :\")\n",
    "    print(df['text_length'].describe())\n",
    "\n",
    "    # Visualisation de la distribution de la longueur des commentaires\n",
    "    plt.figure(figsize=(10, 6))\n",
    "    sns.histplot(df['text_length'], bins=50, kde=True)\n",
    "    plt.title('Distribution de la Longueur des Commentaires')\n",
    "    plt.xlabel('Longueur du Commentaire')\n",
    "    plt.ylabel('Fréquence')\n",
    "    plt.show()\n",
    "\n",
    "elif df is not None:\n",
    "     print(f\"Erreur : La colonne de texte '{text_column}' n'a pas été trouvée dans le dataset.\")\n",
    "     print(\"Veuillez vérifier le nom de la colonne.\")"
   ]
  },
  {
   "cell_type": "markdown",
   "id": "a3d9c2d6",
   "metadata": {},
   "source": [
    "### Mots les Plus Fréquents\n",
    "Identifions les mots les plus courants dans l'ensemble du corpus. Cela nécessite un prétraitement de base (tokenisation, suppression des mots vides).\n",
    "Nous ferons une analyse plus poussée lors de l'étape de prétraitement, mais une première exploration est utile ici."
   ]
  },
  {
   "cell_type": "code",
   "execution_count": 9,
   "id": "ef439996",
   "metadata": {},
   "outputs": [
    {
     "name": "stdout",
     "output_type": "stream",
     "text": [
      "\n",
      "20 mots les plus fréquents (après suppression des stopwords) :\n"
     ]
    },
    {
     "data": {
      "text/plain": [
       "[('day', 31),\n",
       " ('love', 30),\n",
       " ('like', 28),\n",
       " ('going', 27),\n",
       " ('really', 22),\n",
       " ('happy', 22),\n",
       " ('know', 20),\n",
       " ('go', 19),\n",
       " ('back', 19),\n",
       " ('got', 19),\n",
       " ('im', 19),\n",
       " ('want', 16),\n",
       " ('good', 16),\n",
       " ('amazing', 15),\n",
       " ('new', 15),\n",
       " ('miss', 14),\n",
       " ('time', 14),\n",
       " ('get', 14),\n",
       " ('need', 13),\n",
       " ('tomorrow', 12)]"
      ]
     },
     "metadata": {},
     "output_type": "display_data"
    }
   ],
   "source": [
    "# Cette analyse nécessite des étapes de prétraitement de texte,\n",
    "# que nous ferons plus en détail dans la phase de prétraitement.\n",
    "# Pour une première exploration rapide, on peut utiliser des outils simples ou se baser sur des exemples vus en cours.\n",
    "import nltk\n",
    "from nltk.corpus import stopwords\n",
    "from collections import Counter\n",
    "\n",
    "if df is not None and text_column in df.columns:\n",
    "    # Assurez-vous que NLTK est installé et que les stopwords sont téléchargés\n",
    "    try:\n",
    "        stop_words = set(stopwords.words('english')) # ou 'french' si applicable\n",
    "    except LookupError:\n",
    "        nltk.download('stopwords')\n",
    "        stop_words = set(stopwords.words('english'))\n",
    "\n",
    "    # Combiner tout le texte en une seule chaîne \n",
    "    all_text = \" \".join(df[text_column].dropna()).lower()\n",
    "\n",
    "    # Tokenisation simple et suppression des mots vides\n",
    "    words = [word for word in all_text.split() if word.isalpha() and word not in stop_words]\n",
    "\n",
    "    # Compter les mots les plus fréquents\n",
    "    most_common_words = Counter(words).most_common(20)\n",
    "    print(\"\\n20 mots les plus fréquents (après suppression des stopwords) :\")\n",
    "    display(most_common_words)"
   ]
  },
  {
   "cell_type": "markdown",
   "id": "ac773689",
   "metadata": {},
   "source": [
    "## 5. Conclusions de l'EDA et Prochaines Étapes\n",
    "\n",
    "Cette analyse exploratoire des données nous a permis d'obtenir une meilleure compréhension du dataset.\n",
    "\n",
    "### Résumé des Principales Observations :\n",
    " * Le dataset contient 499 lignes et 7 colonnes, dont la colonne de texte ('text') et la colonne de sentiment ('sentiment').\n",
    " * Ce dataset n'a aucune valeurs manquantes\n",
    " * La distribution des sentiments est déséquilibrée, avec la classe neutral étant majoritaire. Cela est un point important à considérer pour la modélisation.\n",
    " * La longueur des commentaires varie de 4 à 138 mots/caractères, avec une moyenne de 59.\n",
    "\n",
    "### Prochaines Étapes :\n",
    "Sur la base de cette EDA, les prochaines étapes du projet seront :\n",
    "1. **Gestion du Déséquilibre des Classes :** Appliquer des techniques si nécessaire.\n",
    "2. **Modélisation :** Sélectionner, entraîner et évaluer différents modèles de machine learning.\n",
    "3. **Évaluation et Sélection du Modèle Final :** Choisir le meilleur modèle en fonction des métriques de performance et des contraintes de déploiement."
   ]
  }
 ],
 "metadata": {
  "kernelspec": {
   "display_name": "Python 3",
   "language": "python",
   "name": "python3"
  },
  "language_info": {
   "codemirror_mode": {
    "name": "ipython",
    "version": 3
   },
   "file_extension": ".py",
   "mimetype": "text/x-python",
   "name": "python",
   "nbconvert_exporter": "python",
   "pygments_lexer": "ipython3",
   "version": "3.9.11"
  }
 },
 "nbformat": 4,
 "nbformat_minor": 5
}
